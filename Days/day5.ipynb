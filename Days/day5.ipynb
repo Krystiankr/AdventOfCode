{
 "cells": [
  {
   "cell_type": "code",
   "execution_count": 19,
   "metadata": {},
   "outputs": [],
   "source": [
    "from collections import deque, defaultdict\n",
    "import re"
   ]
  },
  {
   "cell_type": "code",
   "execution_count": 175,
   "metadata": {},
   "outputs": [],
   "source": [
    "items = defaultdict(deque)\n",
    "items[1] = deque(['F', 'C', 'P', 'G', 'Q', 'R'])\n",
    "items[2] = deque(['W', 'T', 'C', 'P'])\n",
    "items[3] = deque(['B', 'H', 'P', 'M', 'C'])\n",
    "items[4] = deque(['L', 'T', 'Q', 'S', 'M', 'P', 'R'])\n",
    "items[5] = deque(['P', 'H', 'J', 'Z', 'V', 'G', 'N'])\n",
    "items[6] = deque(['D', 'P', 'J'])\n",
    "items[7] = deque(['L', 'G', 'P', 'Z', 'F', 'J', 'T', 'R'])\n",
    "items[8] = deque(['N', 'L', 'H', 'C', 'F', 'P', 'T', 'J'])\n",
    "items[9] = deque(['G', 'V', 'Z', 'Q', 'H', 'T', 'C', 'W'])"
   ]
  },
  {
   "cell_type": "code",
   "execution_count": 170,
   "metadata": {},
   "outputs": [
    {
     "data": {
      "text/plain": [
       "defaultdict(collections.deque,\n",
       "            {1: deque(['Z', 'N']), 2: deque(['M', 'C', 'D']), 3: deque(['P'])})"
      ]
     },
     "execution_count": 170,
     "metadata": {},
     "output_type": "execute_result"
    }
   ],
   "source": [
    "items2 = defaultdict(deque)\n",
    "items2[1] = deque(['Z', 'N'])\n",
    "items2[2] = deque(['M', 'C', 'D'])\n",
    "items2[3] = deque(['P'])\n",
    "items2"
   ]
  },
  {
   "cell_type": "code",
   "execution_count": 171,
   "metadata": {},
   "outputs": [
    {
     "data": {
      "text/plain": [
       "['move 1 from 2 to 1\\n',\n",
       " 'move 3 from 1 to 3\\n',\n",
       " 'move 2 from 2 to 1\\n',\n",
       " 'move 1 from 1 to 2']"
      ]
     },
     "execution_count": 171,
     "metadata": {},
     "output_type": "execute_result"
    }
   ],
   "source": [
    "with open('data5_2.txt', 'r') as f:\n",
    "    lines2 = f.readlines()\n",
    "lines2"
   ]
  },
  {
   "cell_type": "code",
   "execution_count": 172,
   "metadata": {},
   "outputs": [],
   "source": [
    "for line in lines2:\n",
    "    move_items(items2, line)"
   ]
  },
  {
   "cell_type": "code",
   "execution_count": 173,
   "metadata": {},
   "outputs": [
    {
     "data": {
      "text/plain": [
       "defaultdict(collections.deque,\n",
       "            {1: deque(['M']), 2: deque(['C']), 3: deque(['P', 'Z', 'N', 'D'])})"
      ]
     },
     "execution_count": 173,
     "metadata": {},
     "output_type": "execute_result"
    }
   ],
   "source": [
    "items2"
   ]
  },
  {
   "cell_type": "code",
   "execution_count": 174,
   "metadata": {},
   "outputs": [],
   "source": [
    "with open('data5.txt', 'r') as f:\n",
    "    lines = f.readlines()"
   ]
  },
  {
   "cell_type": "code",
   "execution_count": 18,
   "metadata": {},
   "outputs": [
    {
     "data": {
      "text/plain": [
       "(502, 'move 2 from 2 to 8\\n')"
      ]
     },
     "execution_count": 18,
     "metadata": {},
     "output_type": "execute_result"
    }
   ],
   "source": [
    "len(lines), lines[0]"
   ]
  },
  {
   "cell_type": "code",
   "execution_count": 158,
   "metadata": {},
   "outputs": [],
   "source": [
    "def move_items(items: list, command: str):\n",
    "    times, src, dest = re.findall(r'\\d+', command)\n",
    "    times, src, dest = int(times), int(src), int(dest)\n",
    "    if times == 1:\n",
    "        item = items[src].pop()\n",
    "        items[dest].append(item)\n",
    "    else:\n",
    "        tmp_list = [items[src].pop() for i in range(times)][::-1]\n",
    "        for el in tmp_list:\n",
    "            items[dest].append(el)"
   ]
  },
  {
   "cell_type": "code",
   "execution_count": 157,
   "metadata": {},
   "outputs": [
    {
     "data": {
      "text/plain": [
       "[3, 2]"
      ]
     },
     "execution_count": 157,
     "metadata": {},
     "output_type": "execute_result"
    }
   ],
   "source": [
    "lista = [1, 2, 3][::-1]\n",
    "lista.pop()\n",
    "lista"
   ]
  },
  {
   "cell_type": "code",
   "execution_count": null,
   "metadata": {},
   "outputs": [],
   "source": [
    "items[1].popleft"
   ]
  },
  {
   "cell_type": "code",
   "execution_count": 40,
   "metadata": {},
   "outputs": [
    {
     "data": {
      "text/plain": [
       "6"
      ]
     },
     "execution_count": 40,
     "metadata": {},
     "output_type": "execute_result"
    }
   ],
   "source": [
    "len(items[1])"
   ]
  },
  {
   "cell_type": "code",
   "execution_count": 37,
   "metadata": {},
   "outputs": [
    {
     "data": {
      "text/plain": [
       "deque([])"
      ]
     },
     "execution_count": 37,
     "metadata": {},
     "output_type": "execute_result"
    }
   ],
   "source": [
    "items"
   ]
  },
  {
   "cell_type": "code",
   "execution_count": 176,
   "metadata": {},
   "outputs": [],
   "source": [
    "for item in lines:\n",
    "    move_items(items, item)"
   ]
  },
  {
   "cell_type": "code",
   "execution_count": 177,
   "metadata": {},
   "outputs": [
    {
     "data": {
      "text/plain": [
       "'WJVRLSJJT'"
      ]
     },
     "execution_count": 177,
     "metadata": {},
     "output_type": "execute_result"
    }
   ],
   "source": [
    "''.join(list(map(lambda x: list(x[1])[-1], items.items())))"
   ]
  },
  {
   "cell_type": "code",
   "execution_count": 101,
   "metadata": {},
   "outputs": [
    {
     "data": {
      "text/plain": [
       "dict_items([(1, deque(['Q', 'D'])), (2, deque(['T', 'C', 'P', 'T', 'P', 'R', 'W', 'P', 'F', 'H', 'M', 'H'])), (3, deque(['C', 'B'])), (4, deque(['T', 'J'])), (5, deque(['T', 'G', 'H', 'Z', 'R', 'L', 'H', 'J', 'J', 'N', 'F', 'G', 'G', 'P', 'V', 'F', 'Q'])), (6, deque(['J'])), (7, deque(['Q', 'Z', 'V', 'C'])), (8, deque(['P', 'P', 'P', 'T', 'Z', 'C', 'L', 'L', 'M', 'G', 'N', 'P', 'C'])), (9, deque(['S', 'R', 'W']))])"
      ]
     },
     "execution_count": 101,
     "metadata": {},
     "output_type": "execute_result"
    }
   ],
   "source": [
    "items.items()"
   ]
  },
  {
   "cell_type": "code",
   "execution_count": 97,
   "metadata": {},
   "outputs": [
    {
     "data": {
      "text/plain": [
       "'D'"
      ]
     },
     "execution_count": 97,
     "metadata": {},
     "output_type": "execute_result"
    }
   ],
   "source": [
    "list(items[1])[-1]"
   ]
  },
  {
   "cell_type": "code",
   "execution_count": 94,
   "metadata": {},
   "outputs": [
    {
     "data": {
      "text/plain": [
       "defaultdict(collections.deque,\n",
       "            {1: deque(['Q', 'D']),\n",
       "             2: deque(['T',\n",
       "                    'C',\n",
       "                    'P',\n",
       "                    'T',\n",
       "                    'P',\n",
       "                    'R',\n",
       "                    'W',\n",
       "                    'P',\n",
       "                    'F',\n",
       "                    'H',\n",
       "                    'M',\n",
       "                    'H']),\n",
       "             3: deque(['C', 'B']),\n",
       "             4: deque(['T', 'J']),\n",
       "             5: deque(['T',\n",
       "                    'G',\n",
       "                    'H',\n",
       "                    'Z',\n",
       "                    'R',\n",
       "                    'L',\n",
       "                    'H',\n",
       "                    'J',\n",
       "                    'J',\n",
       "                    'N',\n",
       "                    'F',\n",
       "                    'G',\n",
       "                    'G',\n",
       "                    'P',\n",
       "                    'V',\n",
       "                    'F',\n",
       "                    'Q']),\n",
       "             6: deque(['J']),\n",
       "             7: deque(['Q', 'Z', 'V', 'C']),\n",
       "             8: deque(['P',\n",
       "                    'P',\n",
       "                    'P',\n",
       "                    'T',\n",
       "                    'Z',\n",
       "                    'C',\n",
       "                    'L',\n",
       "                    'L',\n",
       "                    'M',\n",
       "                    'G',\n",
       "                    'N',\n",
       "                    'P',\n",
       "                    'C']),\n",
       "             9: deque(['S', 'R', 'W'])})"
      ]
     },
     "execution_count": 94,
     "metadata": {},
     "output_type": "execute_result"
    }
   ],
   "source": [
    "items"
   ]
  },
  {
   "cell_type": "code",
   "execution_count": 11,
   "metadata": {},
   "outputs": [
    {
     "data": {
      "text/plain": [
       "deque([0, 1, 2])"
      ]
     },
     "execution_count": 11,
     "metadata": {},
     "output_type": "execute_result"
    }
   ],
   "source": [
    "lifo1 = deque(['F', 'C', 'P', 'G', 'Q', 'R'])\n",
    "lifo1"
   ]
  },
  {
   "cell_type": "code",
   "execution_count": 2,
   "metadata": {},
   "outputs": [
    {
     "data": {
      "text/plain": [
       "deque([2, 3, 4, 5])"
      ]
     },
     "execution_count": 2,
     "metadata": {},
     "output_type": "execute_result"
    }
   ],
   "source": [
    "lifo = deque()\n",
    "lifo.append(2)\n",
    "lifo.append(3)\n",
    "lifo.append(4)\n",
    "lifo.append(5)\n",
    "lifo"
   ]
  },
  {
   "cell_type": "code",
   "execution_count": 3,
   "metadata": {},
   "outputs": [
    {
     "data": {
      "text/plain": [
       "5"
      ]
     },
     "execution_count": 3,
     "metadata": {},
     "output_type": "execute_result"
    }
   ],
   "source": [
    "lifo.pop()"
   ]
  },
  {
   "cell_type": "code",
   "execution_count": 4,
   "metadata": {},
   "outputs": [
    {
     "data": {
      "text/plain": [
       "deque([2, 3, 4])"
      ]
     },
     "execution_count": 4,
     "metadata": {},
     "output_type": "execute_result"
    }
   ],
   "source": [
    "lifo"
   ]
  }
 ],
 "metadata": {
  "kernelspec": {
   "display_name": "Python 3.9.12 ('base')",
   "language": "python",
   "name": "python3"
  },
  "language_info": {
   "codemirror_mode": {
    "name": "ipython",
    "version": 3
   },
   "file_extension": ".py",
   "mimetype": "text/x-python",
   "name": "python",
   "nbconvert_exporter": "python",
   "pygments_lexer": "ipython3",
   "version": "3.9.12"
  },
  "orig_nbformat": 4,
  "vscode": {
   "interpreter": {
    "hash": "6bf935109b51d5a61976269f5fda458e5ad0be9f60433eebe09071d2ba589f32"
   }
  }
 },
 "nbformat": 4,
 "nbformat_minor": 2
}

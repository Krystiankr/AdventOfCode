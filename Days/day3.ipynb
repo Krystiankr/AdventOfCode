{
 "cells": [
  {
   "cell_type": "code",
   "execution_count": 1,
   "metadata": {},
   "outputs": [],
   "source": [
    "text = \"\"\"vJrwpWtwJgWrhcsFMMfFFhFp\n",
    "jqHRNqRjqzjGDLGLrsFMfFZSrLrFZsSL\n",
    "PmmdzqPrVvPwwTWBwg\n",
    "wMqvLMZHhHMvwLHjbvcjnnSBnvTQFn\n",
    "ttgJtRGJQctTZtZT\n",
    "CrZsJsPPZsGzwwsLwLmpwMDw\"\"\""
   ]
  },
  {
   "cell_type": "code",
   "execution_count": 27,
   "metadata": {},
   "outputs": [
    {
     "data": {
      "text/plain": [
       "['vJrwpWtwJgWrhcsFMMfFFhFp',\n",
       " 'jqHRNqRjqzjGDLGLrsFMfFZSrLrFZsSL',\n",
       " 'PmmdzqPrVvPwwTWBwg',\n",
       " 'wMqvLMZHhHMvwLHjbvcjnnSBnvTQFn',\n",
       " 'ttgJtRGJQctTZtZT',\n",
       " 'CrZsJsPPZsGzwwsLwLmpwMDw']"
      ]
     },
     "execution_count": 27,
     "metadata": {},
     "output_type": "execute_result"
    }
   ],
   "source": [
    "spplited = text.split('\\n')\n",
    "spplited"
   ]
  },
  {
   "cell_type": "code",
   "execution_count": 53,
   "metadata": {},
   "outputs": [],
   "source": [
    "from collections import defaultdict"
   ]
  },
  {
   "cell_type": "code",
   "execution_count": 51,
   "metadata": {},
   "outputs": [],
   "source": [
    "with open('data_3.txt', 'r') as f:\n",
    "    lines = f.readlines()"
   ]
  },
  {
   "cell_type": "code",
   "execution_count": 86,
   "metadata": {},
   "outputs": [],
   "source": [
    "with open('data_3_2.txt', 'r') as f:\n",
    "    lines = f.readlines()\n",
    "    lines = [line.replace('\\n', '') for line in lines]"
   ]
  },
  {
   "cell_type": "code",
   "execution_count": 69,
   "metadata": {},
   "outputs": [
    {
     "data": {
      "text/plain": [
       "300"
      ]
     },
     "execution_count": 69,
     "metadata": {},
     "output_type": "execute_result"
    }
   ],
   "source": [
    "def divide_by_three_lines(lines: list) -> list:\n",
    "    pass"
   ]
  },
  {
   "cell_type": "code",
   "execution_count": 74,
   "metadata": {},
   "outputs": [
    {
     "data": {
      "text/plain": [
       "['cfSpZnBZWQBZJlGRJJcwGMGL\\n', 'WWBhTMgDTZghVjgjssbrbddd']"
      ]
     },
     "execution_count": 74,
     "metadata": {},
     "output_type": "execute_result"
    }
   ],
   "source": [
    "lines[-2:]"
   ]
  },
  {
   "cell_type": "code",
   "execution_count": 49,
   "metadata": {},
   "outputs": [],
   "source": [
    "def character_to_value(character: str) -> int:\n",
    "    if character.isupper():\n",
    "        return ord(character) - ord('A') + 27\n",
    "    if character.islower():\n",
    "        return ord(character) - ord('a') + 1"
   ]
  },
  {
   "cell_type": "code",
   "execution_count": 66,
   "metadata": {},
   "outputs": [],
   "source": [
    "\n",
    "letters_with_value = defaultdict(int)\n",
    "sum_of_all_elements = 0\n",
    "el_length = [len(el)//2 for el in lines]\n",
    "for el_length, element in zip(el_length, lines):\n",
    "    backpack_1 = set(element[:el_length])\n",
    "    backpack_2 = set(element[el_length:])\n",
    "    letter = (backpack_1 & backpack_2).pop()\n",
    "    calculations = character_to_value(letter)\n",
    "    sum_of_all_elements += calculations\n",
    "    letters_with_value[letter] += calculations"
   ]
  },
  {
   "cell_type": "code",
   "execution_count": 67,
   "metadata": {},
   "outputs": [
    {
     "data": {
      "text/plain": [
       "8401"
      ]
     },
     "execution_count": 67,
     "metadata": {},
     "output_type": "execute_result"
    }
   ],
   "source": [
    "sum_of_all_elements"
   ]
  },
  {
   "cell_type": "code",
   "execution_count": 62,
   "metadata": {},
   "outputs": [
    {
     "data": {
      "text/plain": [
       "[('Z', 780),\n",
       " ('R', 660),\n",
       " ('Q', 602),\n",
       " ('J', 540),\n",
       " ('G', 396),\n",
       " ('W', 392),\n",
       " ('T', 368),\n",
       " ('V', 336),\n",
       " ('D', 330),\n",
       " ('N', 280),\n",
       " ('L', 266),\n",
       " ('F', 256),\n",
       " ('B', 252),\n",
       " ('M', 234),\n",
       " ('S', 225),\n",
       " ('v', 220),\n",
       " ('P', 210),\n",
       " ('w', 207),\n",
       " ('t', 200),\n",
       " ('s', 190),\n",
       " ('q', 187),\n",
       " ('H', 170),\n",
       " ('C', 145),\n",
       " ('l', 120),\n",
       " ('n', 112),\n",
       " ('h', 112),\n",
       " ('m', 104),\n",
       " ('z', 104),\n",
       " ('r', 90),\n",
       " ('j', 90),\n",
       " ('p', 80),\n",
       " ('g', 77),\n",
       " ('f', 36),\n",
       " ('d', 24),\n",
       " ('c', 6)]"
      ]
     },
     "execution_count": 62,
     "metadata": {},
     "output_type": "execute_result"
    }
   ],
   "source": [
    "sorted(letters_with_value.items(), key=lambda x: x[1], reverse=True)"
   ]
  },
  {
   "cell_type": "code",
   "execution_count": 60,
   "metadata": {},
   "outputs": [
    {
     "data": {
      "text/plain": [
       "dict_items([('S', 225), ('W', 392), ('B', 252), ('m', 104), ('d', 24), ('g', 77), ('G', 396), ('l', 120), ('n', 112), ('Z', 780), ('J', 540), ('V', 336), ('p', 80), ('v', 220), ('Q', 602), ('F', 256), ('H', 170), ('h', 112), ('R', 660), ('t', 200), ('q', 187), ('s', 190), ('T', 368), ('D', 330), ('M', 234), ('L', 266), ('P', 210), ('r', 90), ('c', 6), ('j', 90), ('w', 207), ('z', 104), ('N', 280), ('f', 36), ('C', 145)])"
      ]
     },
     "execution_count": 60,
     "metadata": {},
     "output_type": "execute_result"
    }
   ],
   "source": [
    "letters_with_value.items()"
   ]
  },
  {
   "cell_type": "code",
   "execution_count": 87,
   "metadata": {},
   "outputs": [
    {
     "data": {
      "text/plain": [
       "[['lflZfgnSnlmmlgGfjGthQPtLNsQhvbHLLpSS',\n",
       "  'zrCVDVFMJTCTcCJMwCThWbtbpbWpPbtbHPLQssLsHP',\n",
       "  'rBFcrwFzFwwVDcDrzTzJfnRGjllBdGZnnZfhqmdn'],\n",
       " ['FjpnFRDmbRtnbJrFJmSTsGShWVhGqGVVsmqs',\n",
       "  'ZwPvNPdzNZwfzBNLdNNNNcLvhnQhqMTVsTGSWSqGqTdVWhMT',\n",
       "  'vgLZHfvLffNLPbggnrbFpJnCbC'],\n",
       " ['hzJzGjGfqmGtDQtDSvVV',\n",
       "  'plpcMBNBcCTlTgCMbvtrsSVsVJDJlrwDQr',\n",
       "  'McHBMMcTTHgJnWqnRqjzZnnRzR']]"
      ]
     },
     "execution_count": 87,
     "metadata": {},
     "output_type": "execute_result"
    }
   ],
   "source": [
    "preapred_3_groups = [lines[i:i+3] for i in range(0, len(lines), 3)]\n",
    "preapred_3_groups[:3]"
   ]
  },
  {
   "cell_type": "code",
   "execution_count": 90,
   "metadata": {},
   "outputs": [],
   "source": [
    "def get_common_item_from_list(sentences: str) -> str:\n",
    "    back1, back2, back3 = set(sentences[0]), set(sentences[1]), set(sentences[2])\n",
    "    return (back1 & back2 & back3).pop()"
   ]
  },
  {
   "cell_type": "code",
   "execution_count": 91,
   "metadata": {},
   "outputs": [
    {
     "data": {
      "text/plain": [
       "'h'"
      ]
     },
     "execution_count": 91,
     "metadata": {},
     "output_type": "execute_result"
    }
   ],
   "source": [
    "get_common_item_from_list(preapred_3_groups[0])"
   ]
  },
  {
   "cell_type": "code",
   "execution_count": 94,
   "metadata": {},
   "outputs": [],
   "source": [
    "\n",
    "sum_of_all_elements = 0\n",
    "el_length = [len(el)//2 for el in lines]\n",
    "for group in preapred_3_groups:\n",
    "    calculations = get_common_item_from_list(group)\n",
    "    sum_of_all_elements += character_to_value(calculations)"
   ]
  },
  {
   "cell_type": "code",
   "execution_count": 95,
   "metadata": {},
   "outputs": [
    {
     "data": {
      "text/plain": [
       "2641"
      ]
     },
     "execution_count": 95,
     "metadata": {},
     "output_type": "execute_result"
    }
   ],
   "source": [
    "sum_of_all_elements"
   ]
  },
  {
   "cell_type": "code",
   "execution_count": null,
   "metadata": {},
   "outputs": [],
   "source": []
  }
 ],
 "metadata": {
  "kernelspec": {
   "display_name": "Python 3.9.13 64-bit (microsoft store)",
   "language": "python",
   "name": "python3"
  },
  "language_info": {
   "codemirror_mode": {
    "name": "ipython",
    "version": 3
   },
   "file_extension": ".py",
   "mimetype": "text/x-python",
   "name": "python",
   "nbconvert_exporter": "python",
   "pygments_lexer": "ipython3",
   "version": "3.9.13"
  },
  "orig_nbformat": 4,
  "vscode": {
   "interpreter": {
    "hash": "068001a723afb0310fab0a7ff1c6ed8c8361e9113705f0e55230ead671caff97"
   }
  }
 },
 "nbformat": 4,
 "nbformat_minor": 2
}

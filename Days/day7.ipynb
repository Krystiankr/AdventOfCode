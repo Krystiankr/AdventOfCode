{
 "cells": [
  {
   "cell_type": "code",
   "execution_count": 52,
   "metadata": {},
   "outputs": [],
   "source": [
    "from collections import defaultdict\n",
    "import re"
   ]
  },
  {
   "cell_type": "code",
   "execution_count": 6,
   "metadata": {},
   "outputs": [],
   "source": [
    "with open('day7.txt', 'r') as f:\n",
    "    lines = f.readlines()"
   ]
  },
  {
   "cell_type": "code",
   "execution_count": 23,
   "metadata": {},
   "outputs": [],
   "source": [
    "def dir_name(line: str) -> str:\n",
    "    if 'dir' in line:\n",
    "        return line[line.index('dir') - 3]\n",
    "    return ''"
   ]
  },
  {
   "cell_type": "code",
   "execution_count": 58,
   "metadata": {},
   "outputs": [],
   "source": [
    "def el_name(line: str) -> str:\n",
    "    if 'dir' in line:\n",
    "        return f'{dir_name(line)}_dir'\n",
    "    else:\n",
    "        file_name = re.findall(r'\\w+.\\w+', lines[7])[0]\n",
    "        number = re.findall(r'\\d+', lines[7])[0]\n",
    "        return f\"{file_name}_{number}\""
   ]
  },
  {
   "cell_type": "code",
   "execution_count": 51,
   "metadata": {},
   "outputs": [
    {
     "data": {
      "text/plain": [
       "'  - b.txt (file, size=14848514)\\n'"
      ]
     },
     "execution_count": 51,
     "metadata": {},
     "output_type": "execute_result"
    }
   ],
   "source": [
    "lines[7]"
   ]
  },
  {
   "cell_type": "code",
   "execution_count": 57,
   "metadata": {},
   "outputs": [
    {
     "data": {
      "text/plain": [
       "'14848514'"
      ]
     },
     "execution_count": 57,
     "metadata": {},
     "output_type": "execute_result"
    }
   ],
   "source": [
    "re.findall(r'\\d+', lines[7])[0]"
   ]
  },
  {
   "cell_type": "code",
   "execution_count": 35,
   "metadata": {},
   "outputs": [],
   "source": [
    "def is_dir(line: str) -> bool:\n",
    "    return 'dir' in line"
   ]
  },
  {
   "cell_type": "code",
   "execution_count": 66,
   "metadata": {},
   "outputs": [],
   "source": [
    "files_dir = defaultdict(dict)"
   ]
  },
  {
   "cell_type": "code",
   "execution_count": 59,
   "metadata": {},
   "outputs": [
    {
     "data": {
      "text/plain": [
       "defaultdict(dict, {3: {'a': [4], 'b': [45]}})"
      ]
     },
     "execution_count": 59,
     "metadata": {},
     "output_type": "execute_result"
    }
   ],
   "source": [
    "files_dir[3]['a'] = []\n",
    "files_dir[3]['a'].append(4)\n",
    "files_dir[3]['b'] = []\n",
    "files_dir[3]['b'].append(45)\n",
    "files_dir"
   ]
  },
  {
   "cell_type": "code",
   "execution_count": 62,
   "metadata": {},
   "outputs": [
    {
     "data": {
      "text/plain": [
       "True"
      ]
     },
     "execution_count": 62,
     "metadata": {},
     "output_type": "execute_result"
    }
   ],
   "source": [
    "'a' in files_dir[3]"
   ]
  },
  {
   "cell_type": "code",
   "execution_count": 61,
   "metadata": {},
   "outputs": [
    {
     "data": {
      "text/plain": [
       "'b'"
      ]
     },
     "execution_count": 61,
     "metadata": {},
     "output_type": "execute_result"
    }
   ],
   "source": [
    "list(files_dir[3].keys())[-1]"
   ]
  },
  {
   "cell_type": "code",
   "execution_count": 71,
   "metadata": {},
   "outputs": [
    {
     "name": "stdout",
     "output_type": "stream",
     "text": [
      "[0] = - / (dir)\n",
      "\n",
      "[-1] = a_dir\n",
      "[-2] = e_dir\n",
      "[-3] = b.txt_14848514\n",
      "[-2] = b.txt_14848514\n",
      "[-2] = b.txt_14848514\n",
      "[-2] = b.txt_14848514\n",
      "[-1] = b.txt_14848514\n",
      "[-1] = b.txt_14848514\n",
      "[-1] = d_dir\n",
      "[-2] = b.txt_14848514\n",
      "[-2] = b.txt_14848514\n",
      "[-2] = b.txt_14848514\n",
      "[-2] = b.txt_14848514\n"
     ]
    },
    {
     "data": {
      "text/plain": [
       "defaultdict(dict,\n",
       "            {0: {'/': ['/', '/', '/_dir'], 'a': ['a', 'a', 'a_dir']},\n",
       "             -1: {'e': ['e', 'e_dir'], 'd': ['d', 'd_dir']}})"
      ]
     },
     "execution_count": 71,
     "metadata": {},
     "output_type": "execute_result"
    }
   ],
   "source": [
    "start_level = current_level = 0\n",
    "previous_index_dash = current_dash = lines[0].index('-')\n",
    "for i, line in enumerate(lines):\n",
    "    element_name = el_name(line)\n",
    "    if is_dir(line):\n",
    "        current_key = dir_name(line)\n",
    "        if current_key in files_dir[current_level]:\n",
    "            if element_name not in files_dir[current_level][current_key]:\n",
    "                files_dir[current_level][current_key].append(element_name)\n",
    "        else:\n",
    "            files_dir[current_level][current_key] = [element_name]\n",
    "    \n",
    "\n",
    "    if i == 0:\n",
    "        print(f'[{current_level}] = {line}')\n",
    "        continue\n",
    "    previous_index_dash = lines[i-1].index('-')\n",
    "    current_dash = lines[i].index('-')\n",
    "    # go deep\n",
    "    if current_dash > previous_index_dash:\n",
    "        current_level -= 1\n",
    "    # go up\n",
    "    if current_dash < previous_index_dash:\n",
    "        current_level += 1\n",
    "    # the same level\n",
    "    if current_dash == previous_index_dash:\n",
    "        pass\n",
    "    print(f'[{current_level}] = {element_name}')\n",
    "files_dir"
   ]
  },
  {
   "cell_type": "code",
   "execution_count": 2,
   "metadata": {},
   "outputs": [
    {
     "data": {
      "text/plain": [
       "['- / (dir)\\n',\n",
       " '  - a (dir)\\n',\n",
       " '    - e (dir)\\n',\n",
       " '      - i (file, size=584)\\n',\n",
       " '    - f (file, size=29116)\\n',\n",
       " '    - g (file, size=2557)\\n',\n",
       " '    - h.lst (file, size=62596)\\n',\n",
       " '  - b.txt (file, size=14848514)\\n',\n",
       " '  - c.dat (file, size=8504156)\\n',\n",
       " '  - d (dir)\\n',\n",
       " '    - j (file, size=4060174)\\n',\n",
       " '    - d.log (file, size=8033020)\\n',\n",
       " '    - d.ext (file, size=5626152)\\n',\n",
       " '    - k (file, size=7214296)']"
      ]
     },
     "execution_count": 2,
     "metadata": {},
     "output_type": "execute_result"
    }
   ],
   "source": [
    "lines"
   ]
  },
  {
   "cell_type": "code",
   "execution_count": 4,
   "metadata": {},
   "outputs": [
    {
     "data": {
      "text/plain": [
       "defaultdict(list, {})"
      ]
     },
     "execution_count": 4,
     "metadata": {},
     "output_type": "execute_result"
    }
   ],
   "source": [
    "directories = defaultdict(list)\n",
    "directories"
   ]
  },
  {
   "cell_type": "code",
   "execution_count": 22,
   "metadata": {},
   "outputs": [],
   "source": [
    "x = 2\n",
    "if 'dir' in lines[x]:\n",
    "    lines[x][lines[x].index('dir') - 3]"
   ]
  },
  {
   "cell_type": "code",
   "execution_count": 11,
   "metadata": {},
   "outputs": [],
   "source": [
    "levels_parents = {}\n",
    "levels_parents[0] = '/'"
   ]
  },
  {
   "cell_type": "code",
   "execution_count": 16,
   "metadata": {},
   "outputs": [],
   "source": [
    "def check_line_changed(previous_line: str, next_line: str) -> bool:\n",
    "    return  previous_line.index('-') != next_line.index('-')"
   ]
  },
  {
   "cell_type": "code",
   "execution_count": null,
   "metadata": {},
   "outputs": [],
   "source": [
    "def get_deep_level(line: str) -> str:\n",
    "    pass"
   ]
  },
  {
   "cell_type": "code",
   "execution_count": 24,
   "metadata": {},
   "outputs": [
    {
     "data": {
      "text/plain": [
       "True"
      ]
     },
     "execution_count": 24,
     "metadata": {},
     "output_type": "execute_result"
    }
   ],
   "source": [
    "check_line_changed(lines[1], lines[5])"
   ]
  },
  {
   "cell_type": "code",
   "execution_count": 22,
   "metadata": {},
   "outputs": [
    {
     "data": {
      "text/plain": [
       "4"
      ]
     },
     "execution_count": 22,
     "metadata": {},
     "output_type": "execute_result"
    }
   ],
   "source": [
    "lines[5].index('-')"
   ]
  },
  {
   "cell_type": "code",
   "execution_count": 34,
   "metadata": {},
   "outputs": [
    {
     "ename": "IndexError",
     "evalue": "list index out of range",
     "output_type": "error",
     "traceback": [
      "\u001b[1;31m---------------------------------------------------------------------------\u001b[0m",
      "\u001b[1;31mIndexError\u001b[0m                                Traceback (most recent call last)",
      "\u001b[1;32mc:\\Users\\E052617\\OneDrive - MFP Michelin\\Documents\\[B] Aplikacje Python\\Work Space\\advent_of_code\\day7.ipynb Komórka 11\u001b[0m in \u001b[0;36m<cell line: 1>\u001b[1;34m()\u001b[0m\n\u001b[0;32m      <a href='vscode-notebook-cell:/c%3A/Users/E052617/OneDrive%20-%20MFP%20Michelin/Documents/%5BB%5D%20Aplikacje%20Python/Work%20Space/advent_of_code/day7.ipynb#W2sZmlsZQ%3D%3D?line=0'>1</a>\u001b[0m \u001b[39mfor\u001b[39;00m i, line \u001b[39min\u001b[39;00m \u001b[39menumerate\u001b[39m(lines):\n\u001b[0;32m      <a href='vscode-notebook-cell:/c%3A/Users/E052617/OneDrive%20-%20MFP%20Michelin/Documents/%5BB%5D%20Aplikacje%20Python/Work%20Space/advent_of_code/day7.ipynb#W2sZmlsZQ%3D%3D?line=1'>2</a>\u001b[0m     \u001b[39m# if 'dir' in line:\u001b[39;00m\n\u001b[0;32m      <a href='vscode-notebook-cell:/c%3A/Users/E052617/OneDrive%20-%20MFP%20Michelin/Documents/%5BB%5D%20Aplikacje%20Python/Work%20Space/advent_of_code/day7.ipynb#W2sZmlsZQ%3D%3D?line=2'>3</a>\u001b[0m     \u001b[39m#     name = lines[1][lines[1].index('dir') - 3]\u001b[39;00m\n\u001b[1;32m----> <a href='vscode-notebook-cell:/c%3A/Users/E052617/OneDrive%20-%20MFP%20Michelin/Documents/%5BB%5D%20Aplikacje%20Python/Work%20Space/advent_of_code/day7.ipynb#W2sZmlsZQ%3D%3D?line=3'>4</a>\u001b[0m     \u001b[39mif\u001b[39;00m check_line_changed(lines[i], lines[i \u001b[39m+\u001b[39;49m \u001b[39m1\u001b[39;49m]):\n\u001b[0;32m      <a href='vscode-notebook-cell:/c%3A/Users/E052617/OneDrive%20-%20MFP%20Michelin/Documents/%5BB%5D%20Aplikacje%20Python/Work%20Space/advent_of_code/day7.ipynb#W2sZmlsZQ%3D%3D?line=4'>5</a>\u001b[0m         directories[name]\u001b[39m.\u001b[39mappend(lines[i \u001b[39m+\u001b[39m \u001b[39m1\u001b[39m])\n",
      "\u001b[1;31mIndexError\u001b[0m: list index out of range"
     ]
    }
   ],
   "source": [
    "for i, line in enumerate(lines):\n",
    "    if 'dir' in line:\n",
    "        name = lines[1][lines[1].index('dir') - 3]\n",
    "    if check_line_changed(lines[i], lines[i + 1]):\n",
    "        directories[name].append(lines[i + 1])"
   ]
  },
  {
   "cell_type": "code",
   "execution_count": 35,
   "metadata": {},
   "outputs": [
    {
     "data": {
      "text/plain": [
       "defaultdict(list,\n",
       "            {'a': ['  - a (dir)\\n',\n",
       "              '    - e (dir)\\n',\n",
       "              '      - i (file, size=584)\\n',\n",
       "              '    - j (file, size=4060174)\\n',\n",
       "              '  - a (dir)\\n',\n",
       "              '    - e (dir)\\n',\n",
       "              '      - i (file, size=584)\\n',\n",
       "              '    - f (file, size=29116)\\n',\n",
       "              '  - b.txt (file, size=14848514)\\n',\n",
       "              '    - j (file, size=4060174)\\n']})"
      ]
     },
     "execution_count": 35,
     "metadata": {},
     "output_type": "execute_result"
    }
   ],
   "source": [
    "directories"
   ]
  },
  {
   "cell_type": "code",
   "execution_count": 10,
   "metadata": {},
   "outputs": [
    {
     "data": {
      "text/plain": [
       "'a'"
      ]
     },
     "execution_count": 10,
     "metadata": {},
     "output_type": "execute_result"
    }
   ],
   "source": [
    "lines[1][lines[1].index('dir') - 3]"
   ]
  },
  {
   "cell_type": "code",
   "execution_count": 5,
   "metadata": {},
   "outputs": [
    {
     "data": {
      "text/plain": [
       "48381165"
      ]
     },
     "execution_count": 5,
     "metadata": {},
     "output_type": "execute_result"
    }
   ],
   "source": [
    "7214296 + 5626152 + 8033020 + 4060174 + 8504156 + 14848514 + 62596 + 2557 + 29116 + 584"
   ]
  },
  {
   "cell_type": "code",
   "execution_count": 13,
   "metadata": {},
   "outputs": [
    {
     "data": {
      "text/plain": [
       "94853"
      ]
     },
     "execution_count": 13,
     "metadata": {},
     "output_type": "execute_result"
    }
   ],
   "source": [
    "29116 + 2557 + 62596 + 584"
   ]
  }
 ],
 "metadata": {
  "kernelspec": {
   "display_name": "Python 3.9.12 ('base')",
   "language": "python",
   "name": "python3"
  },
  "language_info": {
   "codemirror_mode": {
    "name": "ipython",
    "version": 3
   },
   "file_extension": ".py",
   "mimetype": "text/x-python",
   "name": "python",
   "nbconvert_exporter": "python",
   "pygments_lexer": "ipython3",
   "version": "3.9.12"
  },
  "orig_nbformat": 4,
  "vscode": {
   "interpreter": {
    "hash": "6bf935109b51d5a61976269f5fda458e5ad0be9f60433eebe09071d2ba589f32"
   }
  }
 },
 "nbformat": 4,
 "nbformat_minor": 2
}

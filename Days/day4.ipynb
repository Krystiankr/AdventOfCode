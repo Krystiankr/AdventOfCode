{
 "cells": [
  {
   "cell_type": "code",
   "execution_count": 1,
   "metadata": {},
   "outputs": [],
   "source": [
    "with open('../Data/data4.txt', 'r') as f:\n",
    "    lines = f.readlines()"
   ]
  },
  {
   "cell_type": "code",
   "execution_count": 2,
   "metadata": {},
   "outputs": [
    {
     "data": {
      "text/plain": [
       "1000"
      ]
     },
     "execution_count": 2,
     "metadata": {},
     "output_type": "execute_result"
    }
   ],
   "source": [
    "len(lines)"
   ]
  },
  {
   "cell_type": "code",
   "execution_count": 47,
   "metadata": {},
   "outputs": [],
   "source": [
    "def one_contains_other(value1_left: str, value1_right: str, value2_left: str, value2_right: str) -> bool:\n",
    "    set_1 = set(range(int(value1_left), int(value1_right)+1))\n",
    "    set_2 = set(range(int(value2_left), int(value2_right)+1))\n",
    "    compare = (set_1 & set_2)\n",
    "    if not compare:\n",
    "        return False\n",
    "    return (set_1 & set_2) == (set_1 if len(set_1) < len(set_2) else set_2)"
   ]
  },
  {
   "cell_type": "code",
   "execution_count": 59,
   "metadata": {},
   "outputs": [],
   "source": [
    "def overlap_items(value1_left: str, value1_right: str, value2_left: str, value2_right: str) -> bool:\n",
    "    set_1 = set(range(int(value1_left), int(value1_right)+1))\n",
    "    set_2 = set(range(int(value2_left), int(value2_right)+1))\n",
    "    compare = (set_1 & set_2)\n",
    "    return bool(compare)"
   ]
  },
  {
   "cell_type": "code",
   "execution_count": 48,
   "metadata": {},
   "outputs": [
    {
     "data": {
      "text/plain": [
       "(['61', '78'], ['61', '77'])"
      ]
     },
     "execution_count": 48,
     "metadata": {},
     "output_type": "execute_result"
    }
   ],
   "source": [
    "range1, range2 = lines[0].replace('\\n', '').split(',')\n",
    "range1 = range1.split('-')\n",
    "range2 = range2.split('-')\n",
    "range1, range2"
   ]
  },
  {
   "cell_type": "code",
   "execution_count": 62,
   "metadata": {},
   "outputs": [],
   "source": [
    "sum_of_items = 0\n",
    "overlap = 0\n",
    "for line in lines:\n",
    "    range1, range2 = line.replace('\\n', '').split(',')\n",
    "    range1 = range1.split('-')\n",
    "    range2 = range2.split('-')\n",
    "\n",
    "    output = overlap_items(*range1, *range2)\n",
    "    if output == True:\n",
    "        overlap += 1"
   ]
  },
  {
   "cell_type": "code",
   "execution_count": 63,
   "metadata": {},
   "outputs": [
    {
     "data": {
      "text/plain": [
       "926"
      ]
     },
     "execution_count": 63,
     "metadata": {},
     "output_type": "execute_result"
    }
   ],
   "source": [
    "overlap"
   ]
  },
  {
   "cell_type": "code",
   "execution_count": null,
   "metadata": {},
   "outputs": [],
   "source": []
  }
 ],
 "metadata": {
  "kernelspec": {
   "display_name": "Python 3.9.7 ('base')",
   "language": "python",
   "name": "python3"
  },
  "language_info": {
   "codemirror_mode": {
    "name": "ipython",
    "version": 3
   },
   "file_extension": ".py",
   "mimetype": "text/x-python",
   "name": "python",
   "nbconvert_exporter": "python",
   "pygments_lexer": "ipython3",
   "version": "3.9.7"
  },
  "orig_nbformat": 4,
  "vscode": {
   "interpreter": {
    "hash": "1f2e0de83fe549855a174fb6945e5577e3413e9e9f7ec7864d0f7206f698cf70"
   }
  }
 },
 "nbformat": 4,
 "nbformat_minor": 2
}
